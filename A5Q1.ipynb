{
 "cells": [
  {
   "cell_type": "code",
   "execution_count": 7,
   "id": "9684ca0c",
   "metadata": {},
   "outputs": [
    {
     "name": "stdout",
     "output_type": "stream",
     "text": [
      "the base number is: 10\n",
      "the power number is: 2\n",
      "the answer is: 100\n"
     ]
    }
   ],
   "source": [
    "class Number: \n",
    "    def __init__(self,x,n):\n",
    "        self.x = x\n",
    "        self.n = n \n",
    "\n",
    "    def answer(self):\n",
    "        print('the base number is:',self.x)\n",
    "        print('the power number is:',self.n)\n",
    "        print('the answer is:',pow(self.x,self.n))\n",
    "\n",
    "n1 = Number(10,2)\n",
    "n1.answer()\n",
    "\n"
   ]
  },
  {
   "cell_type": "code",
   "execution_count": null,
   "id": "3196e7ef",
   "metadata": {},
   "outputs": [],
   "source": []
  }
 ],
 "metadata": {
  "kernelspec": {
   "display_name": "Python 3",
   "language": "python",
   "name": "python3"
  },
  "language_info": {
   "codemirror_mode": {
    "name": "ipython",
    "version": 3
   },
   "file_extension": ".py",
   "mimetype": "text/x-python",
   "name": "python",
   "nbconvert_exporter": "python",
   "pygments_lexer": "ipython3",
   "version": "3.8.8"
  }
 },
 "nbformat": 4,
 "nbformat_minor": 5
}
